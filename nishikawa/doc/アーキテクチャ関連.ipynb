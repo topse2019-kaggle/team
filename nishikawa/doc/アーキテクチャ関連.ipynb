{
 "cells": [
  {
   "cell_type": "markdown",
   "metadata": {},
   "source": [
    "# アーキテクチャ"
   ]
  },
  {
   "cell_type": "markdown",
   "metadata": {},
   "source": [
    "参考サイト\n",
    "<http://thunders1028.hatenablog.com/entry/2017/11/01/035609>\n"
   ]
  },
  {
   "cell_type": "markdown",
   "metadata": {},
   "source": [
    "歴史\n",
    "<https://qiita.com/yu4u/items/7e93c454c9410c4b5427>"
   ]
  },
  {
   "cell_type": "markdown",
   "metadata": {},
   "source": [
    "---"
   ]
  },
  {
   "cell_type": "markdown",
   "metadata": {},
   "source": [
    "# 畳み込みニューラルネットワークとは。\n",
    "## Convolutional Neural Networks; CNN"
   ]
  },
  {
   "cell_type": "markdown",
   "metadata": {},
   "source": [
    "主に画像認識に利用されるニューラルネットワークの一種である。<br>\n",
    "CNNは画像認識だけではなく、セグメンテーション、物体検出、姿勢推定など様々なタスクを解くためのベースネットワークとしても広く利用されてきている。<br>\n",
    "また，画像ドメインだけではなく、自然言語処理、音響信号処理、ゲームAI等の分野でも利用されるなど、ニューラルネットワークの中でも重要な位置を占めている。<br>\n",
    "<br>\n",
    "CNNの原型は、生物の脳の視覚野に関する神経生理学的な知見を元に考案されたNeocognitronに見ることができる。<br>\n",
    "Neocognitronとは、以下の層を交互に階層的に配置したニューラルネットワークである。<br>\n",
    "・特徴抽出を行なう単純型細胞に対応する畳み込み層<br>\n",
    "・位置ずれを許容する働きを持つ複雑型細胞に対応するpooling層<br>\n",
    "<br>\n",
    "Neocognitronでは自己組織化による学習が行われていたが、その後、LeCunらによりCNNのbackpropagationを用いた学習法が確立さた。<br>\n",
    "→LeNet3：文字認識において成功を収めた。"
   ]
  },
  {
   "cell_type": "markdown",
   "metadata": {},
   "source": [
    "---"
   ]
  },
  {
   "cell_type": "markdown",
   "metadata": {},
   "source": [
    "# CNN(画像認識分野)の歴史"
   ]
  },
  {
   "cell_type": "markdown",
   "metadata": {},
   "source": [
    "## 2000年代"
   ]
  },
  {
   "cell_type": "markdown",
   "metadata": {},
   "source": [
    "SIFT等の職人芸的に設計された特徴ベクトルと，SVM等の識別器を組合せた手法が主流。<br>"
   ]
  },
  {
   "cell_type": "markdown",
   "metadata": {},
   "source": [
    "## 2012年"
   ]
  },
  {
   "cell_type": "markdown",
   "metadata": {},
   "source": [
    "AlexNetと呼ばれるCNNを用いた手法が、それまでの画像認識のデファクトスタンダードであったSIFT + Fisher Vector + SVM5というアプローチに大差をつけて、2012年の画像認識コンペティションImageNet Large Scale Visual Recognition Competition (ILSVRC) にで優勝し、一躍深層学習が注目されることとなった。<br>\n",
    "→それ以降のILSVRCでは，CNNを用いた手法が主流となり，毎年新たなCNNのモデルが適用され，一貫して認識精度の向上に寄与してきた。<br>\n",
    "→ILSVRCで優秀な成績を収めたモデルが，画像認識やその他の様々なタスクを解くためのデファクトスタンダードなモデルとして利用されてきた。"
   ]
  },
  {
   "cell_type": "markdown",
   "metadata": {},
   "source": [
    "---"
   ]
  },
  {
   "cell_type": "markdown",
   "metadata": {},
   "source": [
    "# アーキテクチャの紹介"
   ]
  },
  {
   "cell_type": "markdown",
   "metadata": {},
   "source": [
    "2012年から2017年までのILSVRCのクラス分類タスク（以降では単にILSVRC）において優秀な成績を収めたモデルを紹介する。"
   ]
  },
  {
   "cell_type": "markdown",
   "metadata": {},
   "source": [
    "![](https://qiita-user-contents.imgix.net/https%3A%2F%2Fqiita-image-store.s3.amazonaws.com%2F0%2F139809%2F49368c48-fcda-f2db-47d6-963bdf993bcf.png?ixlib=rb-1.2.2&auto=compress%2Cformat&gif-q=60&s=cc2ae03676410f5038b2738e33a341f2)"
   ]
  },
  {
   "cell_type": "markdown",
   "metadata": {},
   "source": [
    "---"
   ]
  },
  {
   "cell_type": "markdown",
   "metadata": {},
   "source": [
    "## AlexNet(2012)"
   ]
  },
  {
   "cell_type": "markdown",
   "metadata": {},
   "source": [
    "AlexNetは、2012年のILSVRCにおいて従来の画像認識のデファクトスタンダードであったSIFT + Fisher Vector + SVM5というアプローチに大差をつけて優勝し、一躍深層学習の有効性を知らしめたモデル。現在では比較的小規模なモデルということもあり、ベースラインとして利用されることもある。"
   ]
  },
  {
   "cell_type": "markdown",
   "metadata": {},
   "source": [
    "![](https://qiita-user-contents.imgix.net/https%3A%2F%2Fqiita-image-store.s3.amazonaws.com%2F0%2F139809%2Fb534350e-25a8-c56e-1201-6799fb4d5ec6.png?ixlib=rb-1.2.2&auto=compress%2Cformat&gif-q=60&s=4e99206e93ec386d02b0f7af524e68e8)"
   ]
  },
  {
   "cell_type": "markdown",
   "metadata": {},
   "source": [
    "AlexNetは、畳み込み層を5層重ねつつ、pooling層で特徴マップを縮小し、その後、3層の全結合層により最終的な出力を得る。基本的なアーキテクチャの設計思想はNeocognitronやLeNetを踏襲している。"
   ]
  },
  {
   "cell_type": "markdown",
   "metadata": {},
   "source": []
  },
  {
   "cell_type": "markdown",
   "metadata": {},
   "source": []
  },
  {
   "cell_type": "markdown",
   "metadata": {},
   "source": [
    "---"
   ]
  },
  {
   "cell_type": "markdown",
   "metadata": {},
   "source": []
  },
  {
   "cell_type": "markdown",
   "metadata": {},
   "source": [
    "---"
   ]
  },
  {
   "cell_type": "markdown",
   "metadata": {},
   "source": []
  },
  {
   "cell_type": "markdown",
   "metadata": {},
   "source": [
    "---"
   ]
  },
  {
   "cell_type": "markdown",
   "metadata": {},
   "source": []
  },
  {
   "cell_type": "markdown",
   "metadata": {},
   "source": []
  },
  {
   "cell_type": "markdown",
   "metadata": {},
   "source": []
  },
  {
   "cell_type": "markdown",
   "metadata": {},
   "source": []
  },
  {
   "cell_type": "markdown",
   "metadata": {},
   "source": []
  },
  {
   "cell_type": "markdown",
   "metadata": {},
   "source": []
  },
  {
   "cell_type": "markdown",
   "metadata": {},
   "source": []
  },
  {
   "cell_type": "markdown",
   "metadata": {},
   "source": []
  },
  {
   "cell_type": "markdown",
   "metadata": {},
   "source": []
  },
  {
   "cell_type": "markdown",
   "metadata": {},
   "source": []
  },
  {
   "cell_type": "markdown",
   "metadata": {},
   "source": []
  },
  {
   "cell_type": "markdown",
   "metadata": {},
   "source": []
  },
  {
   "cell_type": "markdown",
   "metadata": {},
   "source": []
  },
  {
   "cell_type": "markdown",
   "metadata": {},
   "source": []
  }
 ],
 "metadata": {
  "celltoolbar": "Raw Cell Format",
  "kernelspec": {
   "display_name": "Python 3",
   "language": "python",
   "name": "python3"
  },
  "language_info": {
   "codemirror_mode": {
    "name": "ipython",
    "version": 3
   },
   "file_extension": ".py",
   "mimetype": "text/x-python",
   "name": "python",
   "nbconvert_exporter": "python",
   "pygments_lexer": "ipython3",
   "version": "3.6.9"
  }
 },
 "nbformat": 4,
 "nbformat_minor": 2
}
