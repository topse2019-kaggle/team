{
 "cells": [
  {
   "cell_type": "code",
   "execution_count": 34,
   "metadata": {},
   "outputs": [],
   "source": [
    "import os\n",
    "import random\n",
    "import shutil\n",
    "\n",
    "### 乱数シードを固定\n",
    "random.seed(0)\n",
    "\n",
    "### 該当パス\n",
    "path = \"./data/find-a-car-park/data/data\"\n",
    "\n",
    "move_dirs = ['/train/', '/val/', '/test/']\n",
    "\n",
    "### ディレクトリ一覧を取得\n",
    "dirs = os.listdir(path)\n",
    "\n",
    "### 移動先のディレクトリを作成\n",
    "for m_d in move_dirs:\n",
    "    for d in dirs: \n",
    "        os.makedirs(path + \"/..\" + m_d + d)\n",
    "\n",
    "### 各ディレクトリ内のファイルをコピー\n",
    "for d in dirs:\n",
    "    files = os.listdir(path + \"/\" + d)\n",
    "    \n",
    "    ### train用\n",
    "    tmp = files\n",
    "    train_files = random.sample(tmp, int(len(tmp) * 0.6))\n",
    "    ### 評価用\n",
    "    tmp = list(set(files) - set(train_files))\n",
    "    val_files = random.sample(tmp , int(len(tmp) * 0.5))\n",
    "    ### テスト用\n",
    "    test_files = list(set(files) - set(train_files) - set(val_files))\n",
    "        \n",
    "    ### ファイルをコピー\n",
    "    ### train用\n",
    "    for f in train_files:\n",
    "        shutil.copy2(path + \"/\" + d + \"/\" + f, path + \"/../train/\" + d + \"/\" + f)\n",
    "    ### 評価用\n",
    "    for f in val_files:\n",
    "        shutil.copy2(path + \"/\" + d + \"/\" + f, path + \"/../val/\" + d + \"/\" + f)\n",
    "    ### テスト用\n",
    "    for f in test_files:\n",
    "        shutil.copy2(path + \"/\" + d + \"/\" + f, path + \"/../test/\" + d + \"/\" + f)"
   ]
  },
  {
   "cell_type": "code",
   "execution_count": null,
   "metadata": {},
   "outputs": [],
   "source": []
  }
 ],
 "metadata": {
  "kernelspec": {
   "display_name": "Python 3",
   "language": "python",
   "name": "python3"
  },
  "language_info": {
   "codemirror_mode": {
    "name": "ipython",
    "version": 3
   },
   "file_extension": ".py",
   "mimetype": "text/x-python",
   "name": "python",
   "nbconvert_exporter": "python",
   "pygments_lexer": "ipython3",
   "version": "3.6.9"
  }
 },
 "nbformat": 4,
 "nbformat_minor": 2
}
