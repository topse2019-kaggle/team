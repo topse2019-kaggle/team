{
 "cells": [
  {
   "cell_type": "code",
   "execution_count": 1,
   "metadata": {},
   "outputs": [],
   "source": [
    "from lib import network\n",
    "from lib import architecture\n",
    "from lib import dataloader as dl\n",
    "from lib import optimizer\n",
    "from lib import trainer\n",
    "\n",
    "import torchvision"
   ]
  },
  {
   "cell_type": "code",
   "execution_count": 2,
   "metadata": {},
   "outputs": [],
   "source": [
    "net = network.VGG19(out_channels=10)"
   ]
  },
  {
   "cell_type": "code",
   "execution_count": 3,
   "metadata": {},
   "outputs": [
    {
     "name": "stdout",
     "output_type": "stream",
     "text": [
      "Files already downloaded and verified\n",
      "Files already downloaded and verified\n"
     ]
    }
   ],
   "source": [
    "batch_size = 50\n",
    "\n",
    "train_dataset = torchvision.datasets.CIFAR10(root='./data', train=True, download=True, transform=dl.train_transform())\n",
    "test_dataset = torchvision.datasets.CIFAR10(root='./data', train=True, download=True, transform=dl.val_transform())\n",
    "data_loader = dl.DataLoader(train_dataset, test_dataset, batch_size=batch_size)"
   ]
  },
  {
   "cell_type": "code",
   "execution_count": 4,
   "metadata": {},
   "outputs": [],
   "source": [
    "model = architecture.CNN_Architecture(net)"
   ]
  },
  {
   "cell_type": "code",
   "execution_count": 5,
   "metadata": {},
   "outputs": [
    {
     "name": "stdout",
     "output_type": "stream",
     "text": [
      "cuda\n"
     ]
    },
    {
     "name": "stderr",
     "output_type": "stream",
     "text": [
      "Setting up a new session...\n"
     ]
    },
    {
     "name": "stdout",
     "output_type": "stream",
     "text": [
      "multiGPU\n",
      "----------\n",
      "Epoch 1/2 2020-01-05 22:47:08.232553\n",
      "val Loss: 2.3026 Acc: 0.1010\n",
      "----------\n",
      "Epoch 2/2 2020-01-05 22:48:53.573636\n",
      "train Loss: 2.3027 Acc: 0.1006\n",
      "val Loss: 2.3026 Acc: 0.1000\n",
      "Finished Training\n"
     ]
    }
   ],
   "source": [
    "model.train(data_loader, epoch_count=2)"
   ]
  },
  {
   "cell_type": "code",
   "execution_count": 6,
   "metadata": {},
   "outputs": [
    {
     "name": "stdout",
     "output_type": "stream",
     "text": [
      "検証画像に対しての正解率： 10 %\n"
     ]
    }
   ],
   "source": [
    "model.predict(data_loader[\"val\"])"
   ]
  },
  {
   "cell_type": "code",
   "execution_count": null,
   "metadata": {},
   "outputs": [],
   "source": []
  }
 ],
 "metadata": {
  "kernelspec": {
   "display_name": "Python 3",
   "language": "python",
   "name": "python3"
  },
  "language_info": {
   "codemirror_mode": {
    "name": "ipython",
    "version": 3
   },
   "file_extension": ".py",
   "mimetype": "text/x-python",
   "name": "python",
   "nbconvert_exporter": "python",
   "pygments_lexer": "ipython3",
   "version": "3.6.9"
  }
 },
 "nbformat": 4,
 "nbformat_minor": 2
}
