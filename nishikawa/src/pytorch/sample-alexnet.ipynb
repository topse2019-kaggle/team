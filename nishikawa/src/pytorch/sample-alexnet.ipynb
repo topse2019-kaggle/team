{
 "cells": [
  {
   "cell_type": "code",
   "execution_count": 1,
   "metadata": {},
   "outputs": [],
   "source": [
    "from lib import network\n",
    "from lib import architecture\n",
    "from lib import dataloader as dl\n",
    "from lib import optimizer\n",
    "from lib import trainer\n",
    "\n",
    "import torchvision"
   ]
  },
  {
   "cell_type": "code",
   "execution_count": 2,
   "metadata": {},
   "outputs": [],
   "source": [
    "net = network.AlexNet(out_channels=10)"
   ]
  },
  {
   "cell_type": "code",
   "execution_count": 3,
   "metadata": {},
   "outputs": [
    {
     "name": "stdout",
     "output_type": "stream",
     "text": [
      "Files already downloaded and verified\n",
      "Files already downloaded and verified\n"
     ]
    }
   ],
   "source": [
    "batch_size = 1000\n",
    "\n",
    "train_dataset = torchvision.datasets.CIFAR10(root='./data', train=True, download=True, transform=dl.train_transform())\n",
    "test_dataset = torchvision.datasets.CIFAR10(root='./data', train=True, download=True, transform=dl.val_transform())\n",
    "data_loader = dl.DataLoader(train_dataset, test_dataset, batch_size=batch_size)"
   ]
  },
  {
   "cell_type": "code",
   "execution_count": 4,
   "metadata": {},
   "outputs": [],
   "source": [
    "model = architecture.CNN_Architecture(net)"
   ]
  },
  {
   "cell_type": "code",
   "execution_count": 5,
   "metadata": {},
   "outputs": [
    {
     "name": "stdout",
     "output_type": "stream",
     "text": [
      "cuda\n"
     ]
    },
    {
     "name": "stderr",
     "output_type": "stream",
     "text": [
      "Setting up a new session...\n"
     ]
    },
    {
     "name": "stdout",
     "output_type": "stream",
     "text": [
      "multiGPU\n",
      "----------\n",
      "Epoch 1/10 2020-01-05 21:01:28.794375\n"
     ]
    },
    {
     "name": "stderr",
     "output_type": "stream",
     "text": [
      "/home/physalis/anaconda3/envs/pytorch/lib/python3.6/site-packages/torch/nn/modules/container.py:92: UserWarning: Implicit dimension choice for softmax has been deprecated. Change the call to include dim=X as an argument.\n",
      "  input = module(input)\n"
     ]
    },
    {
     "name": "stdout",
     "output_type": "stream",
     "text": [
      "val Loss: 2.3026 Acc: 0.1000\n",
      "----------\n",
      "Epoch 2/10 2020-01-05 21:01:55.397100\n",
      "train Loss: 2.2586 Acc: 0.1681\n",
      "val Loss: 2.2089 Acc: 0.2357\n",
      "----------\n",
      "Epoch 3/10 2020-01-05 21:02:49.841494\n",
      "train Loss: 2.1917 Acc: 0.2524\n",
      "val Loss: 2.1500 Acc: 0.2996\n",
      "----------\n",
      "Epoch 4/10 2020-01-05 21:03:46.055255\n",
      "train Loss: 2.1506 Acc: 0.3027\n",
      "val Loss: 2.1508 Acc: 0.3044\n",
      "----------\n",
      "Epoch 5/10 2020-01-05 21:04:46.125811\n",
      "train Loss: 2.1299 Acc: 0.3244\n",
      "val Loss: 2.0995 Acc: 0.3570\n",
      "----------\n",
      "Epoch 6/10 2020-01-05 21:05:40.973582\n",
      "train Loss: 2.1276 Acc: 0.3294\n",
      "val Loss: 2.1274 Acc: 0.3313\n",
      "----------\n",
      "Epoch 7/10 2020-01-05 21:06:38.163237\n",
      "train Loss: 2.2439 Acc: 0.2161\n",
      "val Loss: 2.3339 Acc: 0.1272\n",
      "----------\n",
      "Epoch 8/10 2020-01-05 21:07:37.545822\n",
      "train Loss: 2.2871 Acc: 0.1738\n",
      "val Loss: 2.3612 Acc: 0.1000\n",
      "----------\n",
      "Epoch 9/10 2020-01-05 21:08:35.892099\n",
      "train Loss: 2.3319 Acc: 0.1290\n",
      "val Loss: 2.3605 Acc: 0.1007\n",
      "----------\n",
      "Epoch 10/10 2020-01-05 21:09:34.512397\n",
      "train Loss: 2.3172 Acc: 0.1438\n",
      "val Loss: 2.2969 Acc: 0.1643\n",
      "Finished Training\n"
     ]
    }
   ],
   "source": [
    "model.train(data_loader, epoch_count=10)"
   ]
  },
  {
   "cell_type": "code",
   "execution_count": 6,
   "metadata": {},
   "outputs": [
    {
     "name": "stdout",
     "output_type": "stream",
     "text": [
      "検証画像に対しての正解率： 16 %\n"
     ]
    }
   ],
   "source": [
    "model.predict(data_loader[\"val\"])"
   ]
  },
  {
   "cell_type": "code",
   "execution_count": null,
   "metadata": {},
   "outputs": [],
   "source": []
  }
 ],
 "metadata": {
  "kernelspec": {
   "display_name": "Python 3",
   "language": "python",
   "name": "python3"
  },
  "language_info": {
   "codemirror_mode": {
    "name": "ipython",
    "version": 3
   },
   "file_extension": ".py",
   "mimetype": "text/x-python",
   "name": "python",
   "nbconvert_exporter": "python",
   "pygments_lexer": "ipython3",
   "version": "3.6.9"
  }
 },
 "nbformat": 4,
 "nbformat_minor": 2
}
