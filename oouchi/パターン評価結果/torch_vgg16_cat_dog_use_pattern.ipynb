{
 "cells": [
  {
   "cell_type": "markdown",
   "metadata": {
    "colab_type": "text",
    "id": "62hiZT6s_gsm"
   },
   "source": [
    "# Pytorch VGG16（Cat and Dog）パターン使用版\n"
   ]
  },
  {
   "cell_type": "markdown",
   "metadata": {
    "colab_type": "text",
    "id": "gnVu7DfYAwXE"
   },
   "source": [
    "【お題】\n",
    "- 以下のデータセットを用いて、「抽出パターン適用ガイドライン」に従って機械学習モデルを構築する。\n",
    " - 「Cat and Dog」データセット\n",
    "   - 画像数：16010(学習：12808、検証：3202）\n",
    "   - 画像サイズ：64×64\n",
    "   - クラス数：2（cats、dogs）\n",
    "  - データセットの入手先：\n",
    "   - https://www.kaggle.com/tongpython/cat-and-dog\n",
    "    - cat-and-dog.zip\n",
    "\n",
    "【提出物】\n",
    "- モデル学習時のepochごとのAccurncy、loss値の推移が分かるもの。\n",
    "- モデル構築後、検証用画像に対してモデルを適用した際の、Accurncyが分かるもの。"
   ]
  },
  {
   "cell_type": "code",
   "execution_count": 0,
   "metadata": {
    "colab": {},
    "colab_type": "code",
    "id": "e5MRJG381lav"
   },
   "outputs": [],
   "source": [
    "!nvidia-smi"
   ]
  },
  {
   "cell_type": "markdown",
   "metadata": {
    "colab_type": "text",
    "id": "PYU3kNFD9Yz9"
   },
   "source": [
    "## ■パターン用ライブラリを使う準備"
   ]
  },
  {
   "cell_type": "code",
   "execution_count": 0,
   "metadata": {
    "colab": {},
    "colab_type": "code",
    "id": "lpWxTITf1lhR"
   },
   "outputs": [],
   "source": [
    "import torch\n",
    "device = torch.device(\"cuda:0\" if torch.cuda.is_available() else \"cpu\")\n",
    "print(\"device:\", device)"
   ]
  },
  {
   "cell_type": "code",
   "execution_count": 0,
   "metadata": {
    "colab": {},
    "colab_type": "code",
    "id": "avl90Jfz1lnY"
   },
   "outputs": [],
   "source": [
    "%%time\n",
    "from google.colab import drive\n",
    "drive.mount('/content/drive/')\n",
    "%cd '/content/drive/My Drive/'\n",
    "\n",
    "import os\n",
    "if not os.path.exists('tmp'): # 12時間ルール対策用フォルダ\n",
    "    os.makedirs('tmp')\n",
    "\n",
    "# 【使用例】\n",
    "#sys.stdout = open('/content/drive/My Drive/tmp/result.txt', 'a')\n",
    "# …とても時間のかかる処理（学習処理など）…\n",
    "#sys.stdout.close()\n",
    "#sys.stdout = sys.__stdout__"
   ]
  },
  {
   "cell_type": "code",
   "execution_count": 0,
   "metadata": {
    "colab": {},
    "colab_type": "code",
    "id": "j3aOMFXV3X2W"
   },
   "outputs": [],
   "source": [
    "# VisdomはColaboratoryでは動かない？（ローカルで構築したマシン向け？）\n",
    "#%%time\n",
    "#! npm install -g localtunnel\n",
    "#!python3 -m pip install visdom\n",
    "#!python3 -m visdom.server -port 8076 >> visdomlog.txt 2>&1 &\n",
    "#!lt --port 8076 >> url.txt 2>&1 &"
   ]
  },
  {
   "cell_type": "code",
   "execution_count": 0,
   "metadata": {
    "colab": {},
    "colab_type": "code",
    "id": "m2Wd-rNo1lkw"
   },
   "outputs": [],
   "source": [
    "#%%time\n",
    "#import time\n",
    "#time.sleep(5)\n",
    "#! cat url.txt"
   ]
  },
  {
   "cell_type": "code",
   "execution_count": 0,
   "metadata": {
    "colab": {},
    "colab_type": "code",
    "id": "Od5e-UAf1lew"
   },
   "outputs": [],
   "source": [
    "# lib の親フォルダまで移動（libまで指定するとエラー出る）\n",
    "%cd \"/content/drive/My Drive/Colab Notebooks/Pytorch/TopSE2019_SWDEV\"\n",
    "\n",
    "from lib import network_finetuning as network\n",
    "from lib import architecture\n",
    "from lib import dataloader as dl\n",
    "from lib import optimizer\n",
    "from lib import trainer\n",
    "\n",
    "import torchvision"
   ]
  },
  {
   "cell_type": "code",
   "execution_count": 0,
   "metadata": {
    "colab": {},
    "colab_type": "code",
    "id": "Asy5J1T24WUn"
   },
   "outputs": [],
   "source": [
    "# ライブラリを使ってモデルを定義する\n",
    "%%time\n",
    "net = network.InceptionV3(class_size=2)"
   ]
  },
  {
   "cell_type": "markdown",
   "metadata": {
    "colab_type": "text",
    "id": "IUZy4Vfk5wNO"
   },
   "source": [
    "## ■データセットを整備する"
   ]
  },
  {
   "cell_type": "code",
   "execution_count": 0,
   "metadata": {
    "colab": {},
    "colab_type": "code",
    "id": "zpzw_CIs6yBX"
   },
   "outputs": [],
   "source": [
    "import shutil\n",
    "import zipfile\n",
    "import glob"
   ]
  },
  {
   "cell_type": "code",
   "execution_count": 0,
   "metadata": {
    "colab": {},
    "colab_type": "code",
    "id": "E5T_Gag-DxgO"
   },
   "outputs": [],
   "source": [
    "gdrive_dir = \"/content/drive/My Drive/Colab Notebooks/dataset/\"\n",
    "download_dir = \"/root/download/\"\n",
    "data_dir = \"/root/data/\"\n",
    "zip_file_name = \"cat-and-dog.zip\"\n",
    "\n",
    "!rm -rf $data_dir\n",
    "\n",
    "if not os.path.exists(download_dir):\n",
    "    os.makedirs(download_dir)"
   ]
  },
  {
   "cell_type": "code",
   "execution_count": 0,
   "metadata": {
    "colab": {},
    "colab_type": "code",
    "id": "nw7xT_id6f9a"
   },
   "outputs": [],
   "source": [
    "# Colab VMのストレージにDLする\n",
    "%%time\n",
    "s = gdrive_dir + zip_file_name\n",
    "shutil.copy(s, download_dir)"
   ]
  },
  {
   "cell_type": "code",
   "execution_count": 0,
   "metadata": {
    "colab": {},
    "colab_type": "code",
    "id": "okmLFamt6gAg"
   },
   "outputs": [],
   "source": [
    "# Colab VMのストレージに解凍する\n",
    "%%time\n",
    "f = os.path.join(download_dir, zip_file_name)\n",
    "with zipfile.ZipFile(f) as zip:\n",
    "  zip.extractall(download_dir)"
   ]
  },
  {
   "cell_type": "markdown",
   "metadata": {
    "colab_type": "text",
    "id": "SwHPPmm-7Y9Z"
   },
   "source": [
    "#### 学習データ"
   ]
  },
  {
   "cell_type": "code",
   "execution_count": 0,
   "metadata": {
    "colab": {},
    "colab_type": "code",
    "id": "t8xyiHvI6gGX"
   },
   "outputs": [],
   "source": [
    "# ラベル名を確認する\n",
    "src_dir = '/root/download/training_set/training_set/'\n",
    "dst_dir = '/root/data/cat_and_dog/train/'\n",
    "\n",
    "!rm -rf $dst_dir\n",
    "os.makedirs(dst_dir)\n",
    "\n",
    "os.chdir(src_dir)\n",
    "label_dirs = os.listdir(path='.')\n",
    "print(label_dirs)"
   ]
  },
  {
   "cell_type": "code",
   "execution_count": 0,
   "metadata": {
    "colab": {},
    "colab_type": "code",
    "id": "YcNl4lrM7Pn6"
   },
   "outputs": [],
   "source": [
    "# 所定フォルダに振り分ける\n",
    "for dir_name in label_dirs:\n",
    "  numof_data = len( os.listdir(src_dir + dir_name)) # ラベルフォルダ内のファイル数\n",
    "  files = glob.glob(src_dir + dir_name + \"/*.jpg\")  # ラベルフォルダ内のファイルリスト\n",
    "\n",
    "  print(\"Number of data in \" + dir_name + \": \" + str(numof_data))\n",
    "  for file in files:\n",
    "    d = dst_dir + dir_name # 振り分け先フォルダ\n",
    "    if not os.path.exists(d):\n",
    "      os.makedirs(d)\n",
    "    shutil.move(file, d)"
   ]
  },
  {
   "cell_type": "code",
   "execution_count": 0,
   "metadata": {
    "colab": {},
    "colab_type": "code",
    "id": "fbpD9eB07Ptn"
   },
   "outputs": [],
   "source": [
    "# 意図通りに振り分けられたか確認する（今回は目視で確認）\n",
    "print(\"Train files in \" + dst_dir)\n",
    "for dir_name in label_dirs:\n",
    "  numof_data = len( os.listdir(dst_dir + dir_name)) # ラベルフォルダ内のファイル数\n",
    "  print(\" \" + dir_name + \": \" + str(numof_data))"
   ]
  },
  {
   "cell_type": "markdown",
   "metadata": {
    "colab_type": "text",
    "id": "r29Ce_3z7PrY"
   },
   "source": [
    "#### 評価データ"
   ]
  },
  {
   "cell_type": "code",
   "execution_count": 0,
   "metadata": {
    "colab": {},
    "colab_type": "code",
    "id": "BrXd66Gt7Pkv"
   },
   "outputs": [],
   "source": [
    "# ラベル名を確認する\n",
    "src_dir = '/root/download/test_set/test_set/'\n",
    "dst_dir = '/root/data/cat_and_dog/test/'\n",
    "\n",
    "!rm -rf $dst_dir\n",
    "os.makedirs(dst_dir)\n",
    "\n",
    "os.chdir(src_dir)\n",
    "label_dirs = os.listdir(path='.')\n",
    "print(label_dirs)"
   ]
  },
  {
   "cell_type": "code",
   "execution_count": 0,
   "metadata": {
    "colab": {},
    "colab_type": "code",
    "id": "uhEFpHEK6gJh"
   },
   "outputs": [],
   "source": [
    "# 所定フォルダに振り分ける\n",
    "for dir_name in label_dirs:\n",
    "  numof_data = len( os.listdir(src_dir + dir_name)) # ラベルフォルダ内のファイル数\n",
    "  files = glob.glob(src_dir + dir_name + \"/*.jpg\")  # ラベルフォルダ内のファイルリスト\n",
    "\n",
    "  print(\"Number of data in \" + dir_name + \": \" + str(numof_data))\n",
    "  for file in files:\n",
    "    d = dst_dir + dir_name # 振り分け先フォルダ\n",
    "    if not os.path.exists(d):\n",
    "      os.makedirs(d)\n",
    "    shutil.move(file, d)"
   ]
  },
  {
   "cell_type": "code",
   "execution_count": 0,
   "metadata": {
    "colab": {},
    "colab_type": "code",
    "id": "XVjzuTCS6gNb"
   },
   "outputs": [],
   "source": [
    "# 意図通りに振り分けられたか確認する（今回は目視で確認）\n",
    "print(\"Validation files in \" + dst_dir)\n",
    "for dir_name in label_dirs:\n",
    "  numof_data = len( os.listdir(dst_dir + dir_name)) # ラベルフォルダ内のファイル数\n",
    "  print(\" \" + dir_name + \": \" + str(numof_data))"
   ]
  },
  {
   "cell_type": "markdown",
   "metadata": {
    "colab_type": "text",
    "id": "K-6UtBQf6gE5"
   },
   "source": [
    "### データセット、データローダを作成"
   ]
  },
  {
   "cell_type": "code",
   "execution_count": 0,
   "metadata": {
    "colab": {},
    "colab_type": "code",
    "id": "FeEt2LLC4WbC"
   },
   "outputs": [],
   "source": [
    "%%time\n",
    "dst_dir = '/root/data/cat_and_dog/'\n",
    "\n",
    "batch_size = 128\n",
    "transform = dl.pattern_transform(resize=299, HorizontalFlip=True, VerticalFlip=True, Rotation=False, Perspective=True, Crop=False, Erasing=True)\n",
    "\n",
    "train_dataset = torchvision.datasets.ImageFolder(root = dst_dir + 'train/', transform=transform)\n",
    "test_dataset = torchvision.datasets.ImageFolder(root = dst_dir + 'test/', transform=dl.simple_transform(resize=299))\n",
    "data_loader = dl.DataLoader(train_dataset, test_dataset, batch_size=batch_size, suffle=True)"
   ]
  },
  {
   "cell_type": "markdown",
   "metadata": {
    "colab_type": "text",
    "id": "63j5RnDM-GBu"
   },
   "source": [
    "## ■モデル設定"
   ]
  },
  {
   "cell_type": "code",
   "execution_count": 0,
   "metadata": {
    "colab": {},
    "colab_type": "code",
    "id": "yvEYd0pw4Wlh"
   },
   "outputs": [],
   "source": [
    "%%time\n",
    "model = architecture.CNN_Architecture(net)"
   ]
  },
  {
   "cell_type": "code",
   "execution_count": 0,
   "metadata": {
    "colab": {},
    "colab_type": "code",
    "id": "g1m0aJux4Wr3"
   },
   "outputs": [],
   "source": [
    "%%time\n",
    "import sys\n",
    "sys.stdout = open('/content/drive/My Drive/tmp/result_use_pattern.txt', 'w')\n",
    "model.train(data_loader, epoch_count=50, is_inception=True)\n",
    "sys.stdout.close()\n",
    "sys.stdout = sys.__stdout__"
   ]
  },
  {
   "cell_type": "code",
   "execution_count": 0,
   "metadata": {
    "colab": {},
    "colab_type": "code",
    "id": "0cubncWa4Wzv"
   },
   "outputs": [],
   "source": [
    "%%time\n",
    "model.predict(data_loader['val'])"
   ]
  },
  {
   "cell_type": "code",
   "execution_count": 0,
   "metadata": {
    "colab": {},
    "colab_type": "code",
    "id": "LSoAnnWC1lVI"
   },
   "outputs": [],
   "source": []
  }
 ],
 "metadata": {
  "accelerator": "GPU",
  "colab": {
   "collapsed_sections": [],
   "name": "torch_vgg16_cat_dog_use_pattern.ipynb",
   "private_outputs": true,
   "provenance": []
  },
  "kernelspec": {
   "display_name": "Python 3",
   "language": "python",
   "name": "python3"
  },
  "language_info": {
   "codemirror_mode": {
    "name": "ipython",
    "version": 3
   },
   "file_extension": ".py",
   "mimetype": "text/x-python",
   "name": "python",
   "nbconvert_exporter": "python",
   "pygments_lexer": "ipython3",
   "version": "3.7.6"
  }
 },
 "nbformat": 4,
 "nbformat_minor": 1
}
